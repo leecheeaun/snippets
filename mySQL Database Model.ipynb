{
 "cells": [
  {
   "cell_type": "markdown",
   "metadata": {},
   "source": [
    "### Inserting the data into a mySQL Database\n",
    "---\n",
    "\n",
    "1. Connect to the database\n",
    "2. Create table <br>\n",
    "3. Create unique index (avoid duplicates)\n",
    "4. Clean data \n",
    "5. Insert data"
   ]
  },
  {
   "cell_type": "markdown",
   "metadata": {},
   "source": [
    "### 1. Connect to the database\n",
    "---\n",
    "\n",
    "All parameters are stored in config.json"
   ]
  },
  {
   "cell_type": "code",
   "execution_count": null,
   "metadata": {},
   "outputs": [],
   "source": [
    "def connect(self,\n",
    "            host=config['databases'][\"mpobDB\"][\"host\"],\n",
    "            user=config['databases'][\"mpobDB\"]['user'],\n",
    "            password=config['databases'][\"mpobDB\"]['password'],\n",
    "            db=config['databases'][\"mpobDB\"]['db']):\n",
    "    \"\"\"\n",
    "    Creates a cursor object to interact with the DB instance\n",
    "    \"\"\"\n",
    "    self.conn = MySQLdb.connect(host=host,\n",
    "                                user=user,\n",
    "                                passwd=password,\n",
    "                                db=db)\n",
    "    self.cursor = self.conn.cursor()\n",
    "    print(self.conn)"
   ]
  },
  {
   "cell_type": "markdown",
   "metadata": {},
   "source": [
    "### 2. Create table\n",
    "---\n",
    "\n",
    "Here, we create the table based on the schema specified in config.json\n",
    "\n",
    "We use a for loop to generate a string with the mySQL syntax of \n",
    "\n",
    "`col col_type, col2 col2_type`  \n",
    "\n",
    "Finally, we execute the query:\n",
    "```\n",
    "CREATE TABLE IF NOT EXISTS\n",
    "TABLE_NAME\n",
    "(col col_type, col2 col2_type ... )\n",
    "```"
   ]
  },
  {
   "cell_type": "code",
   "execution_count": null,
   "metadata": {},
   "outputs": [],
   "source": [
    "def create(self):\n",
    "    schema = ''\n",
    "\n",
    "    for col, col_type in self.schema.items():\n",
    "        schema += col + ' ' + col_type + ', '\n",
    "\n",
    "    schema = schema[:-2]\n",
    "\n",
    "    # TODO: How to check if table already exists?\n",
    "    # print(\"Table already exists.\")\n",
    "\n",
    "    query = f\"\"\"CREATE TABLE IF NOT EXISTS\n",
    "                {self.table}\n",
    "                ({schema})\"\"\"\n",
    "\n",
    "    self.cursor.execute(query)\n",
    "    print(f\"\"\"Successfully created table: {self.table} with schema {schema}\"\"\")"
   ]
  },
  {
   "cell_type": "markdown",
   "metadata": {},
   "source": [
    "### 3. Create unique index (to avoid duplicates)\n",
    "---\n",
    "\n",
    "We need to run the following:\n",
    "\n",
    "```ALTER TABLE pk_recovery ADD UNIQUE INDEX month_rate(`month`, `sector`);```\n",
    "\n",
    "This will add a unique paired index of month and sector, ensuring that cron scripts will not insert duplicated data for the same month and sector twice. "
   ]
  },
  {
   "cell_type": "markdown",
   "metadata": {},
   "source": [
    "### 4. Clean data\n",
    "---\n",
    "\n",
    "We create a function that appends the report number and the time that the script was run and rename the columns according to the schema specified in config.json"
   ]
  },
  {
   "cell_type": "code",
   "execution_count": 1,
   "metadata": {},
   "outputs": [],
   "source": [
    "def clean_df(report):\n",
    "    \"\"\"\n",
    "    Add report number and time updated columns to the df\n",
    "    Time updated is based on the system time that the script runs\n",
    "    \"\"\"\n",
    "    dfs = get_report_data(report)\n",
    "    final_df = pd.concat(dfs)\n",
    "    final_df['report'] = report\n",
    "    final_df['updated'] = time.strftime('%Y-%m-%d %H:%M:%S')\n",
    "    return final_df.drop_duplicates()\\\n",
    "                   .rename(\n",
    "                       columns={\n",
    "                           'Delivery': 'month',\n",
    "                           'Sector': 'sector',\n",
    "                           'Utilization (%)': 'pk_recovery_rate'})"
   ]
  },
  {
   "cell_type": "markdown",
   "metadata": {},
   "source": [
    "### 5. Insert data\n",
    "---\n",
    "\n",
    "Lastly, we generate the strings that follow mySQL syntax:\n",
    "\n",
    "```\n",
    "INSERT IGNORE INTO table (col1, col2, col3)\n",
    "VALUES (val1, val2, val3\n",
    "ON DUPLICATE KEY UPDATE col1 = val1, col2 = val2, col3 = val3\n",
    "```\n",
    "The last line is controlled by a boolean flag. \n",
    "\n",
    "If update=\"Y\", existing values are overwritten. (Good for data analysis - only the most updated values are shown)\n",
    "\n",
    "If update=\"N\", existing values are kept, and a new value is inserted (even if the index is duplicated). (Good for tracking when MPOB changes their average prices).\n",
    "\n",
    "This ensures that for the unique paired keys (month, sector), only the latest values will appear.\n",
    "\n",
    "See this for differences between `REPLACE INTO`, `INSERT IGNORE INTO` AND `INSERT INTO`:\n",
    "https://stackoverflow.com/questions/812437/mysql-ignore-insert-error-duplicate-entry\n",
    "\n",
    "\n",
    "Check that the index exists: `SHOW INDEX FROM table_name;`\n"
   ]
  },
  {
   "cell_type": "code",
   "execution_count": null,
   "metadata": {},
   "outputs": [],
   "source": [
    "def insert(self, row, update):\n",
    "        \"\"\"\n",
    "        Function to insert data by row into database\n",
    "        If update flag = \"Y\", function will update \n",
    "        existing values on duplicate key\n",
    "        \"\"\"\n",
    "        \n",
    "        # Generate strings to insert into db\n",
    "        schema = ''\n",
    "        value_string = ''\n",
    "        update_string = ''\n",
    "        \n",
    "        for col, col_type in self.schema.items():\n",
    "            \n",
    "            schema += col + ', '\n",
    "\n",
    "            # If the column type is VARCHAR or DATE, use a str repr\n",
    "            if self.schema[col] in ['VARCHAR(255)', 'DATE', 'DATETIME']:\n",
    "                values = repr(row[col])\n",
    "                value_string += values + ', '\n",
    "\n",
    "            # If not, just use str\n",
    "            else:\n",
    "                values = str(row[col])\n",
    "                value_string += values + ', '\n",
    "\n",
    "            # Update existing columns with new values (if values changed)\n",
    "            update_string += col + ' = ' + values + ', '\n",
    "\n",
    "        schema = schema[:-2]\n",
    "        value_string = value_string[:-2]\n",
    "        update_string = update_string[:-2]\n",
    "\n",
    "        query = f\"\"\"\n",
    "                INSERT IGNORE INTO {self.table} ({schema})\n",
    "                VALUES ({value_string})\n",
    "                \"\"\"\n",
    "                \n",
    "        if update == 'Y':\n",
    "            query += f\"\"\"ON DUPLICATE KEY UPDATE {update_string}\"\"\"\n",
    "        else:\n",
    "            pass\n",
    "        \n",
    "        self.cursor.execute(query)\n",
    "        self.conn.commit()"
   ]
  },
  {
   "cell_type": "code",
   "execution_count": null,
   "metadata": {},
   "outputs": [],
   "source": [
    "# Connect to the database and create table if not exists\n",
    "db = mysql.DB('pk_recovery')\n",
    "db.connect()\n",
    "db.create()\n",
    "\n",
    "# Loop through the final df and insert each row into the database\n",
    "for idx, row in final_df.iterrows():\n",
    "    db.insert(row)"
   ]
  },
  {
   "cell_type": "markdown",
   "metadata": {},
   "source": [
    "#### Designing your database tables"
   ]
  },
  {
   "cell_type": "markdown",
   "metadata": {},
   "source": [
    "Specify your requirements first.\n",
    "\n",
    "If you need the latest updated figures without tracking when the last figure changed, use `ON DUPLICATE KEY UPDATE`. The existing figures in the database will be replaced.\n",
    "\n",
    "If you need to track when the last figure changed, just set index and use `INSERT INTO` only. Drop the last row `ON DUPLICATE KEY UPDATE`.  The existing figures in the database will not be replaced.\n",
    "\n",
    "Test this: set a unique index on (date, price) from MPOB Peninsular daily prices and track to see if cron inserts a different (date, price) pair using the `updated` column"
   ]
  }
 ],
 "metadata": {
  "kernelspec": {
   "display_name": "Python 3",
   "language": "python",
   "name": "python3"
  },
  "language_info": {
   "codemirror_mode": {
    "name": "ipython",
    "version": 3
   },
   "file_extension": ".py",
   "mimetype": "text/x-python",
   "name": "python",
   "nbconvert_exporter": "python",
   "pygments_lexer": "ipython3",
   "version": "3.6.9"
  }
 },
 "nbformat": 4,
 "nbformat_minor": 4
}
