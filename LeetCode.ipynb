{
 "cells": [
  {
   "cell_type": "code",
   "execution_count": null,
   "metadata": {},
   "outputs": [],
   "source": [
    "import requests\n",
    "import pandas as pd\n",
    "import json\n",
    "import html2markdown\n",
    "import nbformat as nbf\n",
    "import os\n",
    "import getpass\n",
    "import ipywidgets as widgets\n",
    "from time import sleep"
   ]
  },
  {
   "cell_type": "markdown",
   "metadata": {},
   "source": [
    "## List of Problems\n",
    "\n",
    "We retreive the list of problems on LeetCode and display them in a dataframe."
   ]
  },
  {
   "cell_type": "code",
   "execution_count": null,
   "metadata": {},
   "outputs": [],
   "source": [
    "problems = requests.get('https://leetcode.com/api/problems/all/').json()['stat_status_pairs']\n",
    "\n",
    "problem_list = []\n",
    "for i in problems:\n",
    "    problem_list.append([i['stat']['frontend_question_id'], i['stat']['question__title'], i['stat']['question__title_slug']])\n",
    "    \n",
    "LeetCode = pd.DataFrame(problem_list, columns = ['#' , 'Problem', 'titleSlug'])\n",
    "LeetCode = LeetCode.sort_values(by=['#']).reset_index(drop=True)\n",
    "\n",
    "LeetCode.head()"
   ]
  },
  {
   "cell_type": "markdown",
   "metadata": {},
   "source": [
    "## Querying problem description\n",
    "\n",
    "We first submit a query to retrieve the problem description (_does not work for problems exclusive to premium members_)."
   ]
  },
  {
   "cell_type": "code",
   "execution_count": null,
   "metadata": {},
   "outputs": [],
   "source": [
    "def problem_description(titleSlug, headers):\n",
    "    \n",
    "    # Update header\n",
    "    headers['Referer'] = 'https://leetcode.com/problems/' + titleSlug + '/'\n",
    "    \n",
    "    # Graphql query url\n",
    "    query_url = 'https://leetcode.com/graphql'\n",
    "\n",
    "    # Define request payload\n",
    "    payload = {'query': \n",
    "    '''{\n",
    "      question(titleSlug: \"''' + titleSlug + '''\\\") \n",
    "      {\n",
    "        titleSlug\n",
    "        questionId\n",
    "        title\n",
    "        content\n",
    "        codeSnippets\n",
    "        {\n",
    "          langSlug\n",
    "          code\n",
    "        }\n",
    "        difficulty\n",
    "        topicTags \n",
    "        {\n",
    "          slug\n",
    "        }\n",
    "      }\n",
    "    }'''\n",
    "    }\n",
    "    \n",
    "    # Make the query\n",
    "    response = requests.post(query_url, params=payload, headers=headers).json()['data']['question']\n",
    "    \n",
    "    return response"
   ]
  },
  {
   "cell_type": "markdown",
   "metadata": {},
   "source": [
    "## Generating Notebooks\n",
    "\n",
    "The following code automates the generation of a jupyter notebook given the query response."
   ]
  },
  {
   "cell_type": "code",
   "execution_count": null,
   "metadata": {},
   "outputs": [],
   "source": [
    "def generate_notebook(response, lang='python3', code=None, submission=None):\n",
    "    \n",
    "    fname = '{:04d}. {:s}'.format(int(response['questionId']), response['title'])\n",
    "    \n",
    "    url = 'https://leetcode.com/problems/' + response['titleSlug'] + '/'\n",
    "                                  \n",
    "    difficulty = response['difficulty']\n",
    "    \n",
    "    tags = []\n",
    "    for i in response['topicTags']:\n",
    "        tags.append('[' + i['slug'] + ']' + '(https://leetcode.com/problemset/all/?topicSlugs=' + i['slug'] + ')')\n",
    "                                  \n",
    "    content = response['content']\n",
    "    \n",
    "    code_dict = {'cpp': 0, 'java': 1, 'python3': 3}\n",
    "    if code==None:\n",
    "        try:\n",
    "            code = response['codeSnippets'][code_dict[lang]]['code']\n",
    "        except:\n",
    "            code = \"\"\n",
    "    \n",
    "    variables = {\n",
    "        'fname': fname,\n",
    "        'url': url,\n",
    "        'difficulty': difficulty,\n",
    "        'tags': tags\n",
    "    }\n",
    "    \n",
    "    description = '''## Problem [{fname}]({url})\\n\\n__Difficulty__: {difficulty}\\n\\n__Tags__: {tags}\\n\\n'''.format(**variables) + html2markdown.convert(content)\n",
    "    \n",
    "    if submission==None:\n",
    "        submission = '## Solution\\n\\n'\n",
    "    else:\n",
    "        submission = '## [Solution](' + submission + ')\\n\\n'\n",
    "    \n",
    "    nb = nbf.v4.new_notebook()\n",
    "    nb['cells'] = [nbf.v4.new_markdown_cell(description),\n",
    "                   nbf.v4.new_markdown_cell(submission),\n",
    "                   nbf.v4.new_code_cell(code)]\n",
    "    \n",
    "    # Kernel specifications for the generated notebook\n",
    "    if lang == 'cpp':\n",
    "        kernelspec = {'display_name': 'C++17', 'language': 'C++17', 'name': 'xeus-cling-cpp17'}\n",
    "    elif lang == 'java':\n",
    "        kernelspec = {'display_name': 'SciJava', 'language': 'groovy', 'name': 'scijava'}\n",
    "    else:\n",
    "        kernelspec = {'display_name': 'Python 3', 'language': 'python', 'name': 'python3'}\n",
    "    \n",
    "    nb['metadata'] = {'kernelspec': kernelspec}\n",
    "    \n",
    "    with open('Problems/' + fname + '.ipynb', 'w') as f:\n",
    "        nbf.write(nb, f)"
   ]
  },
  {
   "cell_type": "markdown",
   "metadata": {},
   "source": [
    "## Executing\n",
    "\n",
    "Here we define the headers for the query request and iterate through the entire list of problems to generate notebooks complete with problem description and code snippets.\n",
    "\n",
    "The following coding languages are supported.\n",
    "\n",
    "- `cpp`\n",
    "- `java`\n",
    "- `python3`\n"
   ]
  },
  {
   "cell_type": "code",
   "execution_count": null,
   "metadata": {},
   "outputs": [],
   "source": [
    "# Define headers\n",
    "headers = {}\n",
    "response = requests.get('https://leetcode.com/accounts/login/')\n",
    "\n",
    "__cfduid = response.cookies['__cfduid']\n",
    "csrftoken = response.cookies['csrftoken']\n",
    "\n",
    "headers['Cookie'] = '__cfduid=' + __cfduid + '; ' + 'csrftoken=' + csrftoken\n",
    "headers['x-csrftoken'] = csrftoken\n",
    "\n",
    "# Coding lang: can be either 'cpp', 'java', 'python3'\n",
    "code_display = {'cpp': 'C++', 'java': 'Java', 'python3': 'Python 3'}\n",
    "inv_code_display = {v: k for k, v in code_display.items()}\n",
    "\n",
    "class code_update:\n",
    "    def __init__(self):\n",
    "        self.widget_value = 'C++'\n",
    "        self.value = inv_code_display[self.widget_value]\n",
    "\n",
    "    def update(self, val_dict) -> None:\n",
    "        self.widget_value = val_dict['new']\n",
    "        self.value = inv_code_display[self.widget_value]\n",
    "\n",
    "lang_selector = code_update()\n",
    "\n",
    "lang_buttons = widgets.ToggleButtons(\n",
    "    options = ['C++', 'Java', 'Python 3'],\n",
    "    tooltips =['cpp', 'java', 'python3'],\n",
    "    value = 'Python 3',\n",
    "    description = 'Language:',\n",
    "    disabled = False,\n",
    ")\n",
    "\n",
    "def on_change(val_dict):\n",
    "    lang_selector.update(val_dict)\n",
    "    \n",
    "lang_buttons.observe(on_change, names='value')\n",
    "\n",
    "display(lang_buttons)"
   ]
  },
  {
   "cell_type": "code",
   "execution_count": null,
   "metadata": {},
   "outputs": [],
   "source": [
    "try:\n",
    "    os.makedirs('Problems')\n",
    "except:\n",
    "    print('Problems directory already exists.')\n",
    "\n",
    "exceptions = []\n",
    "\n",
    "for i in range(len(LeetCode)):\n",
    "    titleSlug = LeetCode.iloc[i][2]\n",
    "    \n",
    "    fname = '{:04d}. {:s}'.format(LeetCode.iloc[i][0], str(LeetCode.iloc[i][1]))\n",
    "    \n",
    "    if os.path.exists('Problems/' + fname + '.ipynb'):\n",
    "        continue\n",
    "    \n",
    "    description = problem_description(titleSlug, headers)\n",
    "    \n",
    "    if description['content'] is not None:\n",
    "        generate_notebook(description, lang_selector.value)\n",
    "    else:\n",
    "        exceptions.append(fname)\n",
    "        \n",
    "with open('Premium Problems.txt', 'w') as f:\n",
    "    for i in exceptions:\n",
    "        f.write('{:s}\\n'.format(i))"
   ]
  },
  {
   "cell_type": "markdown",
   "metadata": {},
   "source": [
    "## Login to retrieve submissions\n",
    "\n",
    "In order to retrieve submissions, we need to create a login session. The login function prompts for your LeetCode username and password."
   ]
  },
  {
   "cell_type": "code",
   "execution_count": null,
   "metadata": {},
   "outputs": [],
   "source": [
    "def login(username, password):\n",
    "    url = 'https://leetcode.com/accounts/login/'\n",
    "\n",
    "    headers = {\n",
    "        'Accept': '*/*',\n",
    "        'Connection': 'keep-alive',\n",
    "        'Host': 'leetcode.com',\n",
    "        'User-Agent': 'Mozilla/5.0 (Macintosh; Intel Mac OS X 10_14_4) AppleWebKit/537.36 (KHTML, like Gecko) Chrome/74.0.3729.131 Safari/537.36',\n",
    "        'Referer': 'https://leetcode.com/accounts/login/',\n",
    "    }\n",
    "\n",
    "    response = requests.get(url)\n",
    "    __cfduid = response.cookies['__cfduid']\n",
    "    csrftoken = response.cookies['csrftoken']\n",
    "\n",
    "    headers['Cookie'] = '__cfduid=' + __cfduid + '; ' + 'csrftoken=' + csrftoken\n",
    "    headers['x-csrftoken'] = csrftoken\n",
    "\n",
    "    session = requests.session()\n",
    "\n",
    "    login_data={}\n",
    "\n",
    "    login_data['csrfmiddlewaretoken'] = csrftoken\n",
    "    login_data['login'] = username\n",
    "    login_data['password'] = password\n",
    "\n",
    "    res = session.post(url, headers=headers, data=login_data)\n",
    "    if res.text.find(username)>0:\n",
    "        print ('Login successful.')\n",
    "        return session\n",
    "    else:\n",
    "        print ('Login unsuccessful.')\n",
    "\n",
    "\n",
    "username = input ('LeetCode username: ')\n",
    "password = getpass.getpass(prompt='LeetCode password: ')\n",
    "\n",
    "session = login(username, password)"
   ]
  },
  {
   "cell_type": "markdown",
   "metadata": {},
   "source": [
    "## List of Problems\n",
    "\n",
    "We will retreive the list of problems again, now with submission status."
   ]
  },
  {
   "cell_type": "code",
   "execution_count": null,
   "metadata": {},
   "outputs": [],
   "source": [
    "problems = session.get('https://leetcode.com/api/problems/all/').json()['stat_status_pairs']\n",
    "\n",
    "difficulty_dict = {1: 'Easy', 2: 'Medium', 3: 'Hard'}\n",
    "\n",
    "problem_list = []\n",
    "for i in problems:\n",
    "    problem_list.append([i['stat']['frontend_question_id'], i['stat']['question__title'], i['stat']['question__title_slug'], difficulty_dict[i['difficulty']['level']],  i['status']])\n",
    "    \n",
    "LeetCode = pd.DataFrame(problem_list, columns = ['#' , 'Problem', 'titleSlug', 'Difficulty', 'Status'])\n",
    "LeetCode = LeetCode.sort_values(by=['#','Status']).reset_index(drop=True)\n",
    "\n",
    "LeetCode.head()"
   ]
  },
  {
   "cell_type": "markdown",
   "metadata": {},
   "source": [
    "## Query Submission\n",
    "\n",
    "In a login session, we can query the submission stats."
   ]
  },
  {
   "cell_type": "code",
   "execution_count": null,
   "metadata": {},
   "outputs": [],
   "source": [
    "def retrieve_submission(titleSlug):\n",
    "    query_url = 'https://leetcode.com/api/submissions/{:s}/?offset={:d}&limit={:d}&lastkey='.format(titleSlug, 0, 0)\n",
    "    n = 0\n",
    "    while n<10:\n",
    "        n += 1\n",
    "        try:\n",
    "            response = session.get(query_url).json()['submissions_dump']\n",
    "            return response\n",
    "        except:\n",
    "           sleep(0.05)"
   ]
  },
  {
   "cell_type": "markdown",
   "metadata": {},
   "source": [
    "## Generate entry for README.MD\n",
    "\n",
    "Generate a table entry for the submission stats."
   ]
  },
  {
   "cell_type": "code",
   "execution_count": null,
   "metadata": {},
   "outputs": [],
   "source": [
    "code_display = {'cpp': 'C++', 'java': 'Java', 'python3': 'Python 3'}\n",
    "\n",
    "def generate_entry(description, submission):\n",
    "    questionId = description['questionId']\n",
    "    title = '[{:s}](Problems/{:04d}.%20{:s}.ipynb)'.format(description['title'], int(questionId), description['title'].replace(' ', '%20'))\n",
    "    lang = code_display[submission.loc[0]['lang']]\n",
    "    solution = '[{:s}](https://leetcode.com{:s})'.format(lang, submission.iloc[0]['url'])\n",
    "    difficulty = description['difficulty']\n",
    "    tags = ''\n",
    "    for i in description['topicTags']:\n",
    "        tags += ('[' + i['slug'] + ']' + '(https://leetcode.com/problemset/all/?topicSlugs=' + i['slug'] + ')') + ', '\n",
    "    tags = tags[:-2]\n",
    "    stats = '__{:s}__, {:s}'.format(submission.iloc[0]['runtime'], submission.iloc[0]['memory'])\n",
    "\n",
    "    entry = '| {:04d} | {:s} | {:s} | {:s} | {:s} | {:s} |'.format(int(questionId), title, solution, difficulty, tags, stats)\n",
    "    \n",
    "    return entry\n",
    "\n",
    "def generate_readme(submission_stats):\n",
    "    count = 0\n",
    "    easy_count = 0\n",
    "    medium_count = 0\n",
    "    hard_count = 0\n",
    "    \n",
    "    for i in submission_stats:\n",
    "        count += 1\n",
    "        if i.find('Easy')>0:\n",
    "            easy_count += 1\n",
    "        if i.find('Medium')>0:\n",
    "            medium_count += 1\n",
    "        if i.find('Hard')>0:\n",
    "            hard_count += 1\n",
    "                \n",
    "    total = len(LeetCode)\n",
    "    \n",
    "    n_easy = len(LeetCode.loc[LeetCode['Difficulty'] == 'Easy'])\n",
    "    n_medium = len(LeetCode.loc[LeetCode['Difficulty'] == 'Medium'])\n",
    "    n_hard = len(LeetCode.loc[LeetCode['Difficulty'] == 'Hard'])\n",
    "    \n",
    "    readme = '''<p align='center'><img width='320' src='https://theme.zdassets.com/theme_assets/9008406/036323c6afd10392aa5b7e3a2eb7557d17955c81.png'></p>'''\n",
    "    readme += '\\n\\n'\n",
    "    readme += '### Current Progress:\\n'\n",
    "    readme += '<img src=\\'https://img.shields.io/static/v1.svg?label=Total&message={:d}/{:d}&color=black&style=square&logo=leetcode\\'>'.format(count, total)\n",
    "    readme += ' <img src=\\'https://img.shields.io/badge/Easy-{:d}%2F{:d}-red.svg\\'>'.format(easy_count, n_easy)\n",
    "    readme += ' <img src=\\'https://img.shields.io/badge/Medium-{:d}%2F{:d}-green.svg\\'>'.format(medium_count, n_medium)\n",
    "    readme += ' <img src=\\'https://img.shields.io/badge/Hard-{:d}%2F{:d}-blue.svg\\'>'.format(hard_count, n_hard)\n",
    "    readme += '\\n\\n'\n",
    "    readme += '| # | Title | Solution | Difficulty | Tags | Runtime/Memory |\\n'\n",
    "    readme += '|:-:|:-----:|:--------:|:----------:|:----:|:--------------:|\\n'\n",
    "    for i in submission_stats:\n",
    "        readme += i + '\\n'\n",
    "\n",
    "    return readme"
   ]
  },
  {
   "cell_type": "markdown",
   "metadata": {},
   "source": [
    "## Complete Notebooks with Submitted Code/ Generate README.MD\n",
    "\n",
    "For accepted questions, we retrieve our submitted code and add them to the notebooks.\n",
    "\n",
    "Submission records are also added to the [README.MD](./README.MD)."
   ]
  },
  {
   "cell_type": "code",
   "execution_count": null,
   "metadata": {},
   "outputs": [],
   "source": [
    "submission_stats = []\n",
    "\n",
    "for i in range(len(LeetCode)):\n",
    "    if LeetCode.iloc[i][4] is not None:\n",
    "        titleSlug = LeetCode.iloc[i][2]\n",
    "        submission = retrieve_submission(titleSlug)\n",
    "        if submission is None:\n",
    "            continue\n",
    "        \n",
    "        submission = pd.DataFrame.from_dict(submission).drop(columns=['compare_result', 'is_pending', 'time', 'timestamp'])\n",
    "        submission = submission.sort_values(['runtime','memory'], ascending=[1,1]).reset_index(drop=True)\n",
    "        \n",
    "        submission_url = 'https://leetcode.com' + submission.iloc[0]['url']\n",
    "        \n",
    "        description = problem_description(titleSlug, headers)\n",
    "        \n",
    "        # generate_notebook(description, lang=lang, code=code, submission=submission_url)\n",
    "        \n",
    "        submission_stats.append(generate_entry(description, submission))\n",
    "\n",
    "readme = generate_readme(submission_stats)\n",
    "\n",
    "with open('README.md', 'w') as f:\n",
    "    f.write(readme)"
   ]
  }
 ],
 "metadata": {
  "kernelspec": {
   "display_name": "Python 3",
   "language": "python",
   "name": "python3"
  },
  "language_info": {
   "codemirror_mode": {
    "name": "ipython",
    "version": 3
   },
   "file_extension": ".py",
   "mimetype": "text/x-python",
   "name": "python",
   "nbconvert_exporter": "python",
   "pygments_lexer": "ipython3",
   "version": "3.6.9"
  },
  "widgets": {
   "application/vnd.jupyter.widget-state+json": {
    "state": {
     "5204b01f5f32480d966d40ee6d7dbfab": {
      "model_module": "@jupyter-widgets/controls",
      "model_module_version": "1.4.0",
      "model_name": "ToggleButtonsModel",
      "state": {
       "_options_labels": [
        "C++",
        "Java",
        "Python 3"
       ],
       "button_style": "",
       "description": "Language:",
       "icons": [],
       "index": 0,
       "layout": "IPY_MODEL_ba210d54431a40dd825621851d34a9c1",
       "style": "IPY_MODEL_fadfd2683ed54a278ee35adf0aa9173b",
       "tooltips": [
        "cpp",
        "java",
        "python3"
       ]
      }
     },
     "59d6d79f533741d5b64c64cfadaf8077": {
      "model_module": "@jupyter-widgets/base",
      "model_module_version": "1.1.0",
      "model_name": "LayoutModel",
      "state": {}
     },
     "ba210d54431a40dd825621851d34a9c1": {
      "model_module": "@jupyter-widgets/base",
      "model_module_version": "1.1.0",
      "model_name": "LayoutModel",
      "state": {}
     },
     "e75173687a2c4d56ad3b3a47b8429744": {
      "model_module": "@jupyter-widgets/controls",
      "model_module_version": "1.4.0",
      "model_name": "ToggleButtonsStyleModel",
      "state": {
       "button_width": "",
       "description_width": ""
      }
     },
     "e7581e55456a406bba8510b5c8b15151": {
      "model_module": "@jupyter-widgets/controls",
      "model_module_version": "1.4.0",
      "model_name": "ToggleButtonsModel",
      "state": {
       "_options_labels": [
        "C++",
        "Java",
        "Python 3"
       ],
       "button_style": "",
       "description": "Language:",
       "icons": [],
       "index": 2,
       "layout": "IPY_MODEL_59d6d79f533741d5b64c64cfadaf8077",
       "style": "IPY_MODEL_e75173687a2c4d56ad3b3a47b8429744",
       "tooltips": [
        "cpp",
        "java",
        "python3"
       ]
      }
     },
     "fadfd2683ed54a278ee35adf0aa9173b": {
      "model_module": "@jupyter-widgets/controls",
      "model_module_version": "1.4.0",
      "model_name": "ToggleButtonsStyleModel",
      "state": {
       "button_width": "",
       "description_width": ""
      }
     }
    },
    "version_major": 2,
    "version_minor": 0
   }
  }
 },
 "nbformat": 4,
 "nbformat_minor": 4
}
