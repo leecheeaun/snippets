{
 "cells": [
  {
   "cell_type": "code",
   "execution_count": 10,
   "metadata": {},
   "outputs": [],
   "source": [
    "%matplotlib notebook"
   ]
  },
  {
   "cell_type": "code",
   "execution_count": null,
   "metadata": {},
   "outputs": [],
   "source": [
    "# Import the matplotlib.pyplot submodule and name it plt\n",
    "import matplotlib.pyplot as plt\n",
    "\n",
    "# Create a Figure and an Axes with plt.subplots\n",
    "fig, ax = plt.subplots()\n",
    "\n",
    "# Call the show function to show the results\n",
    "plt.show()"
   ]
  },
  {
   "cell_type": "code",
   "execution_count": null,
   "metadata": {},
   "outputs": [],
   "source": [
    "# Import the matplotlib.pyplot submodule and name it plt\n",
    "import matplotlib.pyplot as plt\n",
    "\n",
    "# Create a Figure and an Axes with plt.subplots\n",
    "fig, ax = plt.subplots()\n",
    "\n",
    "ax.plot(df['x'], df['y'], color='', marker='', linestyle='--')\n",
    "\n",
    "# Customizations\n",
    "ax.set_xlabel('Time (months)')\n",
    "ax.set_ylabel('Average temperature (Fahrenheit degrees)')\n",
    "ax.set_title('Weather patterns in Austin and Seattle')\n",
    "\n",
    "# Display the figure\n",
    "plt.show()"
   ]
  },
  {
   "cell_type": "markdown",
   "metadata": {},
   "source": [
    "### Create a formula that takes care of x, y, color, labels and title"
   ]
  },
  {
   "cell_type": "code",
   "execution_count": 20,
   "metadata": {},
   "outputs": [],
   "source": [
    "# Define a function called plot_timeseries\n",
    "def plot_timeseries(axes, x, y, color, xlabel, ylabel):\n",
    "\n",
    "  # Plot the inputs x,y in the provided color\n",
    "  axes.plot(x, y, color=color)\n",
    "\n",
    "  # Set the x-axis label\n",
    "  axes.set_xlabel(xlabel)\n",
    "\n",
    "  # Set the y-axis labbel\n",
    "  axes.set_ylabel(ylabel, color=color)\n",
    "\n",
    "  # Set the colors tick params for y-axis\n",
    "  axes.tick_params('y', colors=color)"
   ]
  },
  {
   "cell_type": "code",
   "execution_count": null,
   "metadata": {},
   "outputs": [],
   "source": [
    "fig, ax = plt.subplots()\n",
    "\n",
    "# Plot the CO2 levels time-series in blue\n",
    "plot_timeseries(ax, x1, y1, \"blue\", \"Time (years)\", \"CO2 levels\")\n",
    "\n",
    "# Create a twin Axes object that shares the x-axis\n",
    "ax2 = ax.twinx()\n",
    "\n",
    "# Plot the relative temperature data in red\n",
    "plot_timeseries(ax2, x1, y2, \"red\", \"Time (years)\", \"Relative temperature (Celsius)\")\n",
    "\n",
    "plt.show()"
   ]
  },
  {
   "cell_type": "markdown",
   "metadata": {},
   "source": [
    "### Annotating time series data"
   ]
  },
  {
   "cell_type": "code",
   "execution_count": null,
   "metadata": {},
   "outputs": [],
   "source": [
    "fig, ax = plt.subplots()\n",
    "\n",
    "# Plot the CO2 levels time-series in blue\n",
    "plot_timeseries(ax, climate_change.index, climate_change['co2'], 'blue', \"Time (years)\", \"CO2 levels\")\n",
    "\n",
    "# Create an Axes object that shares the x-axis\n",
    "ax2 = ax.twinx()\n",
    "\n",
    "# Plot the relative temperature data in red\n",
    "plot_timeseries(ax2, climate_change.index, climate_change['relative_temp'], 'red', \"Time (years)\", \"Relative temp (Celsius)\")\n",
    "\n",
    "# Annotate point with relative temperature >1 degree\n",
    "ax2.annotate(\">1 degree\", \n",
    "             xy=(pd.Timestamp('2015-10-06'), 1), # Data position of interest\n",
    "             xytext=(pd.Timestamp('2008-10-06'), -0.2),\n",
    "             arrowprops={\"arrowstyle\": \"->\", \"color\": \"gray\"}) # Configure how the arrow looks\n",
    "\n",
    "plt.show()"
   ]
  },
  {
   "cell_type": "markdown",
   "metadata": {},
   "source": [
    "### Bar chart"
   ]
  },
  {
   "cell_type": "code",
   "execution_count": null,
   "metadata": {},
   "outputs": [],
   "source": [
    "fig, ax = plt.subplots()\n",
    "\n",
    "# Plot a bar-chart of gold medals as a function of country\n",
    "ax.bar(medals.index, medals[\"Gold\"])\n",
    "\n",
    "# plt.show()\n",
    "\n",
    "# Set the x-axis tick labels to the country names\n",
    "ax.set_xticklabels(medals.index, rotation=90)\n",
    "\n",
    "# Set the y-axis label\n",
    "ax.set_ylabel(\"Number of medals\")\n",
    "\n",
    "plt.show()"
   ]
  },
  {
   "cell_type": "markdown",
   "metadata": {},
   "source": [
    "### Stacked bar chart"
   ]
  },
  {
   "cell_type": "code",
   "execution_count": null,
   "metadata": {},
   "outputs": [],
   "source": [
    "# Add bars for \"Gold\" with the label \"Gold\"\n",
    "ax.bar(medals.index, medals[\"Gold\"], label=\"Gold\")\n",
    "\n",
    "# Stack bars for \"Silver\" on top with label \"Silver\" --> Add Gold to bottom\n",
    "ax.bar(medals.index, medals[\"Silver\"], bottom=medals[\"Gold\"], label=\"Silver\")\n",
    "\n",
    "# Stack bars for \"Bronze\" on top of that with label \"Bronze\" --> Add Gold + Silver to bottom\n",
    "ax.bar(medals.index, medals[\"Bronze\"], bottom=medals[\"Gold\"] + medals[\"Silver\"], label=\"Bronze\")\n",
    "\n",
    "# Display the legend\n",
    "ax.legend()\n",
    "\n",
    "plt.show()"
   ]
  },
  {
   "cell_type": "markdown",
   "metadata": {},
   "source": [
    "### Create histograms"
   ]
  },
  {
   "cell_type": "code",
   "execution_count": null,
   "metadata": {},
   "outputs": [],
   "source": [
    "fig, ax = plt.subplots()\n",
    "# Plot a histogram of \"Weight\" for mens_rowing\n",
    "ax.hist(mens_rowing['Weight'])\n",
    "\n",
    "# Compare to histogram of \"Weight\" for mens_gymnastics\n",
    "ax.hist(mens_gymnastics['Weight'])\n",
    "\n",
    "# Set the x-axis label to \"Weight (kg)\"\n",
    "ax.set_xlabel(\"Weight (kg)\")\n",
    "\n",
    "# Set the y-axis label to \"# of observations\"\n",
    "ax.set_ylabel(\"# of observations\")\n",
    "\n",
    "plt.show()"
   ]
  },
  {
   "cell_type": "markdown",
   "metadata": {},
   "source": [
    "### Step histogram: distribution of data in different groups"
   ]
  },
  {
   "cell_type": "code",
   "execution_count": null,
   "metadata": {},
   "outputs": [],
   "source": [
    "fig, ax = plt.subplots()\n",
    "\n",
    "# Plot a histogram of \"Weight\" for mens_rowing\n",
    "ax.hist(mens_rowing[\"Weight\"], label=\"Rowing\", bins=5, histtype=\"step\")\n",
    "\n",
    "# Compare to histogram of \"Weight\" for mens_gymnastics\n",
    "ax.hist(mens_gymnastics[\"Weight\"], label=\"Gymnastics\", bins=5, histtype=\"step\")\n",
    "\n",
    "ax.set_xlabel(\"Weight (kg)\")\n",
    "ax.set_ylabel(\"# of observations\")\n",
    "\n",
    "# Add the legend and show the Figure\n",
    "ax.legend()\n",
    "\n",
    "plt.show()"
   ]
  },
  {
   "cell_type": "markdown",
   "metadata": {},
   "source": [
    "### Adding error bars to a bar chart"
   ]
  },
  {
   "cell_type": "code",
   "execution_count": null,
   "metadata": {},
   "outputs": [],
   "source": [
    "fig, ax = plt.subplots()\n",
    "\n",
    "# Add a bar for the rowing \"Height\" column mean/std\n",
    "ax.bar(\"Rowing\", \n",
    "       mens_rowing[\"Height\"].mean(), \n",
    "       yerr=mens_rowing[\"Height\"].std())\n",
    "\n",
    "# Add a bar for the gymnastics \"Height\" column mean/std\n",
    "ax.bar(\"Gymnastics\",\n",
    "       mens_gymnastics[\"Height\"].mean(),\n",
    "       yerr=mens_gymnastics[\"Height\"].std())\n",
    "\n",
    "# Label the y-axis\n",
    "ax.set_ylabel(\"Height (cm)\")\n",
    "\n",
    "plt.show()"
   ]
  },
  {
   "cell_type": "markdown",
   "metadata": {},
   "source": [
    "### Adding error bars using axes.errorbar"
   ]
  },
  {
   "cell_type": "code",
   "execution_count": null,
   "metadata": {},
   "outputs": [],
   "source": [
    "# Needs average temperatures and standard deviation\n",
    "\n",
    "fig, ax = plt.subplots()\n",
    "\n",
    "# Add Seattle temperature data in each month with error bars\n",
    "ax.errorbar(seattle_weather[\"MONTH\"], seattle_weather[\"MLY-TAVG-NORMAL\"], yerr=seattle_weather[\"MLY-TAVG-STDDEV\"])\n",
    "\n",
    "# Add Austin temperature data in each month with error bars\n",
    "ax.errorbar(austin_weather[\"MONTH\"], austin_weather[\"MLY-TAVG-NORMAL\"], yerr=austin_weather[\"MLY-TAVG-STDDEV\"])\n",
    "\n",
    "# Set the y-axis label\n",
    "ax.set_ylabel(\"Temperature (Fahrenheit)\")\n",
    "\n",
    "plt.show()"
   ]
  },
  {
   "cell_type": "markdown",
   "metadata": {},
   "source": [
    "### Boxplots"
   ]
  },
  {
   "cell_type": "code",
   "execution_count": null,
   "metadata": {},
   "outputs": [],
   "source": [
    "# Shows median, interquartile range, expected range of 99% of data, and outliers\n",
    "\n",
    "fig, ax = plt.subplots()\n",
    "\n",
    "# Add a boxplot for the \"Height\" column in the DataFrames\n",
    "ax.boxplot([mens_rowing[\"Height\"], \n",
    "           mens_gymnastics[\"Height\"]])\n",
    "\n",
    "# Add x-axis tick labels:\n",
    "ax.set_xticklabels([\"Rowing\", \"Gymnastics\"])\n",
    "\n",
    "# Add a y-axis label\n",
    "ax.set_ylabel(\"Height (cm)\")\n",
    "\n",
    "plt.show()"
   ]
  },
  {
   "cell_type": "markdown",
   "metadata": {},
   "source": [
    "### Simple scatter plot"
   ]
  },
  {
   "cell_type": "code",
   "execution_count": null,
   "metadata": {},
   "outputs": [],
   "source": [
    "fig, ax = plt.subplots()\n",
    "\n",
    "# Add data: \"co2\" on x-axis, \"relative_temp\" on y-axis\n",
    "ax.scatter(climate_change[\"co2\"], climate_change[\"relative_temp\"])\n",
    "\n",
    "# Set the x-axis label to \"CO2 (ppm)\"\n",
    "ax.set_xlabel(\"CO2 (ppm)\")\n",
    "\n",
    "# Set the y-axis label to \"Relative temperature (C)\"\n",
    "ax.set_ylabel(\"Relative temperature (C)\")\n",
    "\n",
    "plt.show()"
   ]
  },
  {
   "cell_type": "markdown",
   "metadata": {},
   "source": [
    "### Encode time by color"
   ]
  },
  {
   "cell_type": "code",
   "execution_count": null,
   "metadata": {},
   "outputs": [],
   "source": [
    "fig, ax = plt.subplots()\n",
    "\n",
    "# Add data: \"co2\", \"relative_temp\" as x-y, df.index as color\n",
    "ax.scatter(climate_change[\"co2\"], climate_change[\"relative_temp\"], c=climate_change.index)\n",
    "\n",
    "# Set the x-axis label to \"CO2 (ppm)\"\n",
    "ax.set_xlabel(\"CO2 (ppm)\")\n",
    "\n",
    "# Set the y-axis label to \"Relative temperature (C)\"\n",
    "ax.set_ylabel(\"Relative temperature (C)\")\n",
    "\n",
    "plt.show()"
   ]
  },
  {
   "cell_type": "markdown",
   "metadata": {},
   "source": [
    "### Create a 2x2 plot"
   ]
  },
  {
   "cell_type": "code",
   "execution_count": null,
   "metadata": {},
   "outputs": [],
   "source": [
    "# Create a Figure and an array of subplots with 2 rows and 2 columns\n",
    "fig, ax = plt.subplots(2, 2)\n",
    "\n",
    "# Addressing the top left Axes as index 0, 0, plot Seattle precipitation\n",
    "ax[0, 0].plot(seattle_weather['MONTH'], seattle_weather['MLY-PRCP-NORMAL'])\n",
    "\n",
    "# In the top right (index 0,1), plot Seattle temperatures\n",
    "ax[0, 1].plot(seattle_weather['MONTH'], seattle_weather['MLY-TAVG-NORMAL'])\n",
    "\n",
    "# In the bottom left (1, 0) plot Austin precipitations\n",
    "ax[1,0].plot(austin_weather['MONTH'], austin_weather['MLY-PRCP-NORMAL'])\n",
    "\n",
    "# In the bottom right (1, 1) plot Austin temperatures\n",
    "ax[1,1].plot(austin_weather['MONTH'], austin_weather['MLY-TAVG-NORMAL'])\n",
    "\n",
    "plt.show()"
   ]
  },
  {
   "cell_type": "markdown",
   "metadata": {},
   "source": [
    "### Create a 2x1 plot"
   ]
  },
  {
   "cell_type": "code",
   "execution_count": null,
   "metadata": {},
   "outputs": [],
   "source": [
    "# Create a figure and an array of axes: 2 rows, 1 column with shared y axis\n",
    "fig, axes = plt.subplots(2, 1, sharey=True)\n",
    "\n",
    "# Plot Seattle precipitation data in the top axes\n",
    "# Notice that axes reduces to a\n",
    "axes[0].plot(seattle_weather['MONTH'], \n",
    "             seattle_weather['MLY-PRCP-NORMAL'], \n",
    "             color = 'b')\n",
    "axes[0].plot(seattle_weather['MONTH'], seattle_weather['MLY-PRCP-25PCTL'], color = 'b', linestyle = \"--\")\n",
    "axes[0].plot(seattle_weather['MONTH'], seattle_weather['MLY-PRCP-75PCTL'], color = 'b', linestyle = \"--\")\n",
    "\n",
    "# Plot Austin precipitation data in the bottom axes\n",
    "axes[1].plot(austin_weather['MONTH'], austin_weather['MLY-PRCP-NORMAL'], color = 'r')\n",
    "axes[1].plot(austin_weather['MONTH'], austin_weather['MLY-PRCP-25PCTL'], color = 'r', linestyle = \"--\")\n",
    "axes[1].plot(austin_weather['MONTH'], austin_weather['MLY-PRCP-NORMAL'], color = 'r', linestyle = \"--\")\n",
    "plt.show()"
   ]
  },
  {
   "cell_type": "markdown",
   "metadata": {},
   "source": [
    "### Twin axes plot - share one axis without sharing the other"
   ]
  },
  {
   "cell_type": "code",
   "execution_count": null,
   "metadata": {},
   "outputs": [],
   "source": [
    "import matplotlib.pyplot as plt\n",
    "\n",
    "# Initalize a Figure and Axes\n",
    "fig, ax = plt.subplots()\n",
    "\n",
    "# Plot the CO2 variable in blue\n",
    "ax.plot(climate_change.index, climate_change['co2'], color='b')\n",
    "\n",
    "# Create a twin Axes that shares the x-axis\n",
    "ax2 = ax.twinx()\n",
    "\n",
    "# Plot the relative temperature in red\n",
    "ax2.plot(climate_change.index, climate_change['relative_temp'], color='r')\n",
    "\n",
    "plt.show()"
   ]
  },
  {
   "cell_type": "markdown",
   "metadata": {},
   "source": [
    "### Configure, save"
   ]
  },
  {
   "cell_type": "code",
   "execution_count": null,
   "metadata": {
    "heading_collapsed": true
   },
   "outputs": [],
   "source": [
    "# Use the \"ggplot\" style and create new Figure/Axes\n",
    "plt.style.use(\"ggplot\")\n",
    "\n",
    "fig, ax = plt.subplots()\n",
    "\n",
    "ax.plot(seattle_weather[\"MONTH\"], seattle_weather[\"MLY-TAVG-NORMAL\"])\n",
    "plt.show()\n",
    "\n",
    "# Save as a PNG file with 300 dpi\n",
    "fig.savefig('my_figure_300dpi.png', dpi=300)\n",
    "\n",
    "# Set figure dimensions\n",
    "fig.set_size_inches([3,5])\n",
    "\n",
    "# Save file\n",
    "fig.savefig('filename.png')"
   ]
  },
  {
   "cell_type": "markdown",
   "metadata": {},
   "source": [
    "### Use for loop to iterate through unique values"
   ]
  },
  {
   "cell_type": "code",
   "execution_count": null,
   "metadata": {},
   "outputs": [],
   "source": [
    "# Extract the \"Sport\" column\n",
    "sports_column = summer_2016_medals[\"Sport\"]\n",
    "\n",
    "# Find the unique values of the \"Sport\" column\n",
    "sports = sports_column.unique()\n",
    "\n",
    "# Print out the unique sports values\n",
    "print(sports)\n",
    "\n",
    "fig, ax = plt.subplots()\n",
    "\n",
    "# Loop over the different sports branches\n",
    "for sport in sports:\n",
    "  # Extract the rows only for this sport\n",
    "  sport_df = summer_2016_medals[summer_2016_medals[\"Sport\"] == sport]\n",
    "  # Add a bar for the \"Weight\" mean with std y error bar\n",
    "  ax.bar(sport, \n",
    "         sport_df[\"Weight\"].mean(),\n",
    "         yerr = sport_df[\"Weight\"].std())\n",
    "\n",
    "ax.set_ylabel(\"Height (cm)\")\n",
    "ax.set_xticklabels(sports, rotation=90)\n",
    "\n",
    "# Save the figure to file\n",
    "fig.savefig(\"sports_weights.png\")"
   ]
  },
  {
   "cell_type": "code",
   "execution_count": 13,
   "metadata": {},
   "outputs": [
    {
     "data": {
      "image/png": "[encoded data removed]",
      "text/plain": [
       "<Figure size 432x288 with 1 Axes>"
      ]
     },
     "metadata": {
      "needs_background": "light"
     },
     "output_type": "display_data"
    }
   ],
   "source": [
    "# Plot money spent against days\n",
    "\n",
    "days = [0,1,2,3,4,5,6]\n",
    "day_names = ['Mon', 'Tue', 'Wed', 'Thurs', 'Fri', 'Sat', 'Sun']\n",
    "money_spent = [10,12,12,10,14,22,24]\n",
    "\n",
    "# Add an ax plot \n",
    "ax = plt.subplot()\n",
    "ax.set_xticks(days)\n",
    "ax.set_xticklabels(day_names)\n",
    "\n",
    "# Add title to chart\n",
    "plt.xlabel('Days')\n",
    "plt.ylabel('Spending ($)')\n",
    "plt.plot(days, money_spent)\n",
    "plt.show()"
   ]
  },
  {
   "cell_type": "markdown",
   "metadata": {},
   "source": [
    "Plot on the same axes twice"
   ]
  },
  {
   "cell_type": "code",
   "execution_count": 15,
   "metadata": {},
   "outputs": [
    {
     "data": {
      "image/png": "[encoded data removed]",
      "text/plain": [
       "<Figure size 432x288 with 1 Axes>"
      ]
     },
     "metadata": {
      "needs_background": "light"
     },
     "output_type": "display_data"
    }
   ],
   "source": [
    "# Days of the week:\n",
    "days = [0, 1, 2, 3, 4, 5, 6]\n",
    "\n",
    "# Your Money:\n",
    "money_spent = [10, 12, 12, 10, 14, 22, 24]\n",
    "# Your Friend's Money:\n",
    "money_spent_2 = [11, 14, 15, 15, 22, 21, 12]\n",
    "\n",
    "# Plot your money:\n",
    "plt.plot(days, money_spent)\n",
    "# Plot your friend's money:\n",
    "plt.plot(days, money_spent_2)\n",
    "# Display the result:\n",
    "plt.show()"
   ]
  },
  {
   "cell_type": "markdown",
   "metadata": {},
   "source": [
    "Changing line styles and using markers\n",
    "\n",
    "Reference: https://matplotlib.org/api/_as_gen/matplotlib.lines.Line2D.html#matplotlib.lines.Line2D"
   ]
  },
  {
   "cell_type": "code",
   "execution_count": 17,
   "metadata": {},
   "outputs": [
    {
     "data": {
      "image/png": "[encoded data removed]",
      "text/plain": [
       "<Figure size 432x288 with 1 Axes>"
      ]
     },
     "metadata": {
      "needs_background": "light"
     },
     "output_type": "display_data"
    }
   ],
   "source": [
    "time = [0, 1, 2, 3, 4]\n",
    "revenue = [200, 400, 650, 800, 850]\n",
    "costs = [150, 500, 550, 550, 560]\n",
    "\n",
    "# Change linestyle to \"--\"\n",
    "plt.plot(time, revenue, color='purple', linestyle='--')\n",
    "# Square markers\n",
    "plt.plot(time, costs, color='#82edc9', marker='s')\n",
    "\n",
    "plt.show()"
   ]
  },
  {
   "cell_type": "markdown",
   "metadata": {},
   "source": [
    "Zooming onto an axis: plt.axis(start_x, end_x, start_y, end_y)"
   ]
  },
  {
   "cell_type": "code",
   "execution_count": 18,
   "metadata": {},
   "outputs": [
    {
     "data": {
      "image/png": "[encoded data removed]",
      "text/plain": [
       "<Figure size 432x288 with 1 Axes>"
      ]
     },
     "metadata": {
      "needs_background": "light"
     },
     "output_type": "display_data"
    }
   ],
   "source": [
    "x = range(12)\n",
    "y = [3000, 3005, 3010, 2900, 2950, 3050, 3000, 3100, 2980, 2980, 2920, 3010]\n",
    "plt.plot(x, y)\n",
    "\n",
    "# plt.axis (start_x, end_x, start_y, end_y)\n",
    "plt.axis([0,12,2900,3100])\n",
    "plt.show()"
   ]
  },
  {
   "cell_type": "markdown",
   "metadata": {},
   "source": [
    "Adding labels to plots"
   ]
  },
  {
   "cell_type": "code",
   "execution_count": 19,
   "metadata": {},
   "outputs": [
    {
     "data": {
      "image/png": "[encoded data removed]",
      "text/plain": [
       "<Figure size 432x288 with 1 Axes>"
      ]
     },
     "metadata": {
      "needs_background": "light"
     },
     "output_type": "display_data"
    }
   ],
   "source": [
    "x = range(12)\n",
    "y = [3000, 3005, 3010, 2900, 2950, 3050, 3000, 3100, 2980, 2980, 2920, 3010]\n",
    "\n",
    "# Plot x against y\n",
    "plt.plot(x, y)\n",
    "# Zoom in onto axis\n",
    "plt.axis([0, 12, 2900, 3100])\n",
    "# Set x-axis label\n",
    "plt.xlabel('Time')\n",
    "# Set y-axis label\n",
    "plt.ylabel('Dollars Spent on coffee')\n",
    "# Set title for chart\n",
    "plt.title('My Last Twelve Years of Coffee Drinking')\n",
    "plt.show()"
   ]
  },
  {
   "cell_type": "markdown",
   "metadata": {},
   "source": [
    "- Multiple axes in the same plot = subplots\n",
    "- The picture or object containing all the subplots is called a figure\n",
    "- plt.subplot() needs 3 arguments:\n",
    "    1. Rows\n",
    "    2. Columns\n",
    "    3. Index of subplot we wish to create"
   ]
  }
 ],
 "metadata": {
  "hide_input": false,
  "kernelspec": {
   "display_name": "Python 3",
   "language": "python",
   "name": "python3"
  },
  "language_info": {
   "codemirror_mode": {
    "name": "ipython",
    "version": 3
   },
   "file_extension": ".py",
   "mimetype": "text/x-python",
   "name": "python",
   "nbconvert_exporter": "python",
   "pygments_lexer": "ipython3",
   "version": "3.6.9"
  }
 },
 "nbformat": 4,
 "nbformat_minor": 4
}
