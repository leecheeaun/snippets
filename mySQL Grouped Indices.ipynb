{
 "cells": [
  {
   "cell_type": "markdown",
   "metadata": {},
   "source": [
    "### Objectives\n",
    "---\n",
    "This notebook explores the effect of setting grouped indices on mySQL tables. \n",
    "\n",
    "Specifying the correct indices will allow the insert function to work as expected.\n",
    "\n",
    "For example, by setting indices to (`date`, `product`, `delivery`), there will only be one price value for a given combination of the unique index. \n",
    "\n",
    "Hence, `ON DUPLICATE KEY UPDATE` will update the existing values in the database if the same unique index combination is inserted into the db. "
   ]
  },
  {
   "cell_type": "markdown",
   "metadata": {},
   "source": [
    "### Get data and select top 10 rows"
   ]
  },
  {
   "cell_type": "code",
   "execution_count": 2,
   "metadata": {},
   "outputs": [
    {
     "name": "stdout",
     "output_type": "stream",
     "text": [
      "Reading data for 2019-1 ... \n",
      "Massaging final frame ... \n",
      "All done! 3 DataFrames were downloaded.\n"
     ]
    }
   ],
   "source": [
    "import mpob\n",
    "import mysql\n",
    "\n",
    "df = mpob.get_daily_prices(2019, 2019) # months = list(range(1,2))\n",
    "df = df.head(10)"
   ]
  },
  {
   "cell_type": "markdown",
   "metadata": {},
   "source": [
    "### Connect to db and create table"
   ]
  },
  {
   "cell_type": "code",
   "execution_count": 7,
   "metadata": {},
   "outputs": [
    {
     "name": "stdout",
     "output_type": "stream",
     "text": [
      "<_mysql.connection open to '35.240.192.164' at 0x5576e7238d28>\n",
      "Successfully created table: mpob_daily with schema date DATE, product VARCHAR(255), delivery DATE, price FLOAT, updated DATETIME\n"
     ]
    }
   ],
   "source": [
    "db = mysql.DB(\"mpob_daily\")\n",
    "db.connect()\n",
    "db.create()"
   ]
  },
  {
   "cell_type": "raw",
   "metadata": {},
   "source": [
    "mysql> show tables;\n",
    "+------------------+\n",
    "| Tables_in_mpobDB |\n",
    "+------------------+\n",
    "| daily            |\n",
    "| mpob_daily       | <--- New table has been created\n",
    "| pk_recovery      |\n",
    "| reports          |\n",
    "+------------------+"
   ]
  },
  {
   "cell_type": "markdown",
   "metadata": {},
   "source": [
    "Table schema"
   ]
  },
  {
   "cell_type": "raw",
   "metadata": {},
   "source": [
    "mysql> describe mpob_daily;\n",
    "+----------+--------------+------+-----+---------+-------+\n",
    "| Field    | Type         | Null | Key | Default | Extra |\n",
    "+----------+--------------+------+-----+---------+-------+\n",
    "| date     | date         | YES  |     | NULL    |       |\n",
    "| product  | varchar(255) | YES  |     | NULL    |       |\n",
    "| delivery | date         | YES  |     | NULL    |       |\n",
    "| price    | float        | YES  |     | NULL    |       |\n",
    "| updated  | datetime     | YES  |     | NULL    |       |\n",
    "+----------+--------------+------+-----+---------+-------+\n",
    "5 rows in set (0.00 sec)"
   ]
  },
  {
   "cell_type": "markdown",
   "metadata": {},
   "source": [
    "### Insert data into db"
   ]
  },
  {
   "cell_type": "code",
   "execution_count": 8,
   "metadata": {},
   "outputs": [],
   "source": [
    "for idx, row in df.iterrows():\n",
    "    db.insert(row) # Default overwrite = N - query excludes ON DUPLICATE KEY UPDATE"
   ]
  },
  {
   "cell_type": "markdown",
   "metadata": {},
   "source": [
    "Initial result set"
   ]
  },
  {
   "cell_type": "raw",
   "metadata": {},
   "source": [
    "mysql> select * from mpob_daily;\n",
    "+------------+---------+------------+--------+---------------------+\n",
    "| date       | product | delivery   | price  | updated             |\n",
    "+------------+---------+------------+--------+---------------------+\n",
    "| 2019-01-09 | CPO     | 2019-04-01 |   2200 | 2019-08-20 06:25:07 |\n",
    "| 2019-01-07 | CPKO    | 2019-04-01 |   3241 | 2019-08-20 06:25:07 |\n",
    "| 2019-01-08 | CPKO    | 2019-04-01 | 3257.5 | 2019-08-20 06:25:07 |\n",
    "| 2019-01-09 | CPKO    | 2019-04-01 |   3274 | 2019-08-20 06:25:07 |\n",
    "| 2019-01-22 | CPKO    | 2019-04-01 |   3240 | 2019-08-20 06:25:07 |\n",
    "| 2019-01-24 | CPKO    | 2019-04-01 |   3199 | 2019-08-20 06:25:07 |\n",
    "| 2019-01-28 | CPKO    | 2019-04-01 | 3181.5 | 2019-08-20 06:25:07 |\n",
    "| 2019-01-29 | CPKO    | 2019-04-01 | 3119.5 | 2019-08-20 06:25:07 |\n",
    "| 2019-01-31 | CPKO    | 2019-04-01 | 3098.5 | 2019-08-20 06:25:07 |\n",
    "| 2019-01-02 | CPO     | 2019-02-01 |   2110 | 2019-08-20 06:25:07 |\n",
    "+------------+---------+------------+--------+---------------------+\n",
    "10 rows in set (0.00 sec)"
   ]
  },
  {
   "cell_type": "markdown",
   "metadata": {},
   "source": [
    "### Case 1: Set the index on date, product, delivery"
   ]
  },
  {
   "cell_type": "raw",
   "metadata": {},
   "source": [
    "mysql> ALTER TABLE mpob_daily ADD UNIQUE INDEX mpob_daily_unique_index (`date`, `product`, `delivery`);\n",
    "Query OK, 0 rows affected (0.02 sec)\n",
    "Records: 0  Duplicates: 0  Warnings: 0"
   ]
  },
  {
   "cell_type": "raw",
   "metadata": {},
   "source": [
    "mysql> show index from mpob_daily;\n",
    "+------------+------------+-------------------------+--------------+-------------+-----------+-------------+----------+--------+------+------------+---------+---------------+\n",
    "| Table      | Non_unique | Key_name                | Seq_in_index | Column_name | Collation | Cardinality | Sub_part | Packed | Null | Index_type | Comment | Index_comment |\n",
    "+------------+------------+-------------------------+--------------+-------------+-----------+-------------+----------+--------+------+------------+---------+---------------+\n",
    "| mpob_daily |          0 | mpob_daily_unique_index |            1 | date        | A         |           9 |     NULL | NULL   | YES  | BTREE      |         |               |\n",
    "| mpob_daily |          0 | mpob_daily_unique_index |            2 | product     | A         |          10 |     NULL | NULL   | YES  | BTREE      |         |               |\n",
    "| mpob_daily |          0 | mpob_daily_unique_index |            3 | delivery    | A         |          10 |     NULL | NULL   | YES  | BTREE      |         |               |\n",
    "+------------+------------+-------------------------+--------------+-------------+-----------+-------------+----------+--------+------+------------+---------+---------------+\n",
    "3 rows in set (0.00 sec)"
   ]
  },
  {
   "cell_type": "markdown",
   "metadata": {},
   "source": [
    "#### Update value for first row\n",
    "\n",
    "Scenario: MPOB Website decides to change the prices at some random time in the day"
   ]
  },
  {
   "cell_type": "code",
   "execution_count": 9,
   "metadata": {},
   "outputs": [
    {
     "data": {
      "text/plain": [
       "date        2019-01-09 00:00:00\n",
       "product                     CPO\n",
       "delivery    2019-04-01 00:00:00\n",
       "price                      2200\n",
       "updated     2019-08-20 07:02:35\n",
       "id                         NULL\n",
       "Name: 8, dtype: object"
      ]
     },
     "execution_count": 9,
     "metadata": {},
     "output_type": "execute_result"
    }
   ],
   "source": [
    "gen = df.iterrows()\n",
    "row = next(gen)[1]\n",
    "row"
   ]
  },
  {
   "cell_type": "code",
   "execution_count": 10,
   "metadata": {},
   "outputs": [
    {
     "data": {
      "text/plain": [
       "date        2019-01-09 00:00:00\n",
       "product                     CPO\n",
       "delivery    2019-04-01 00:00:00\n",
       "price                      9999\n",
       "updated     2019-08-20 16:25:07\n",
       "id                         NULL\n",
       "Name: 8, dtype: object"
      ]
     },
     "execution_count": 10,
     "metadata": {},
     "output_type": "execute_result"
    }
   ],
   "source": [
    "# Price is now changed!\n",
    "row['price'] = 9999\n",
    "row['updated'] = '2019-08-20 16:25:07'\n",
    "row"
   ]
  },
  {
   "cell_type": "code",
   "execution_count": 11,
   "metadata": {},
   "outputs": [],
   "source": [
    "db.insert(row)"
   ]
  },
  {
   "cell_type": "markdown",
   "metadata": {},
   "source": [
    "We see that the first value has changed, with the updated time, as index was set on date, product and delivery."
   ]
  },
  {
   "cell_type": "raw",
   "metadata": {},
   "source": [
    "mysql> select * from mpob_daily;\n",
    "+------------+---------+------------+--------+---------------------+\n",
    "| date       | product | delivery   | price  | updated             |\n",
    "+------------+---------+------------+--------+---------------------+\n",
    "| 2019-01-09 | CPO     | 2019-04-01 |   9999 | 2019-08-20 16:25:07 | <--- Value has been updated\n",
    "| 2019-01-07 | CPKO    | 2019-04-01 |   3241 | 2019-08-20 06:25:07 |\n",
    "| 2019-01-08 | CPKO    | 2019-04-01 | 3257.5 | 2019-08-20 06:25:07 |\n",
    "| 2019-01-09 | CPKO    | 2019-04-01 |   3274 | 2019-08-20 06:25:07 |\n",
    "| 2019-01-22 | CPKO    | 2019-04-01 |   3240 | 2019-08-20 06:25:07 |\n",
    "| 2019-01-24 | CPKO    | 2019-04-01 |   3199 | 2019-08-20 06:25:07 |\n",
    "| 2019-01-28 | CPKO    | 2019-04-01 | 3181.5 | 2019-08-20 06:25:07 |\n",
    "| 2019-01-29 | CPKO    | 2019-04-01 | 3119.5 | 2019-08-20 06:25:07 |\n",
    "| 2019-01-31 | CPKO    | 2019-04-01 | 3098.5 | 2019-08-20 06:25:07 |\n",
    "| 2019-01-02 | CPO     | 2019-02-01 |   2110 | 2019-08-20 06:25:07 |\n",
    "+------------+---------+------------+--------+---------------------+\n",
    "10 rows in set (0.00 sec) <--- No. of rows remain the same"
   ]
  },
  {
   "cell_type": "markdown",
   "metadata": {},
   "source": [
    "### Case 2: Set the index on all columns"
   ]
  },
  {
   "cell_type": "raw",
   "metadata": {},
   "source": [
    "mysql> drop index mpob_daily_unique_index on mpob_daily;\n",
    "Query OK, 0 rows affected (0.00 sec)\n",
    "Records: 0  Duplicates: 0  Warnings: 0\n",
    "\n",
    "mysql> ALTER TABLE mpob_daily ADD UNIQUE INDEX mpob_daily_unique_index (`date`, `product`, `delivery`, `price`, `updated`);\n",
    "Query OK, 0 rows affected (0.02 sec)\n",
    "Records: 0  Duplicates: 0  Warnings: 0"
   ]
  },
  {
   "cell_type": "code",
   "execution_count": 12,
   "metadata": {},
   "outputs": [
    {
     "data": {
      "text/plain": [
       "date        2019-01-09 00:00:00\n",
       "product                     CPO\n",
       "delivery    2019-04-01 00:00:00\n",
       "price                      8888\n",
       "updated     2019-08-20 20:25:07\n",
       "id                         NULL\n",
       "Name: 8, dtype: object"
      ]
     },
     "execution_count": 12,
     "metadata": {},
     "output_type": "execute_result"
    }
   ],
   "source": [
    "row['price'] = 8888\n",
    "row['updated'] = '2019-08-20 20:25:07'\n",
    "row"
   ]
  },
  {
   "cell_type": "code",
   "execution_count": 13,
   "metadata": {},
   "outputs": [],
   "source": [
    "db.insert(row)"
   ]
  },
  {
   "cell_type": "raw",
   "metadata": {},
   "source": [
    "mysql> select * from mpob_daily;\n",
    "+------------+---------+------------+--------+---------------------+\n",
    "| date       | product | delivery   | price  | updated             |\n",
    "+------------+---------+------------+--------+---------------------+\n",
    "| 2019-01-02 | CPO     | 2019-02-01 |   2110 | 2019-08-20 06:25:07 |\n",
    "| 2019-01-07 | CPKO    | 2019-04-01 |   3241 | 2019-08-20 06:25:07 |\n",
    "| 2019-01-08 | CPKO    | 2019-04-01 | 3257.5 | 2019-08-20 06:25:07 |\n",
    "| 2019-01-09 | CPKO    | 2019-04-01 |   3274 | 2019-08-20 06:25:07 |\n",
    "| 2019-01-09 | CPO     | 2019-04-01 |   8888 | 2019-08-20 20:25:07 | <--- New row has been inserted\n",
    "| 2019-01-09 | CPO     | 2019-04-01 |   9999 | 2019-08-20 16:25:07 | <--- Notice that the first row was shifted down\n",
    "| 2019-01-22 | CPKO    | 2019-04-01 |   3240 | 2019-08-20 06:25:07 |\n",
    "| 2019-01-24 | CPKO    | 2019-04-01 |   3199 | 2019-08-20 06:25:07 |\n",
    "| 2019-01-28 | CPKO    | 2019-04-01 | 3181.5 | 2019-08-20 06:25:07 |\n",
    "| 2019-01-29 | CPKO    | 2019-04-01 | 3119.5 | 2019-08-20 06:25:07 |\n",
    "| 2019-01-31 | CPKO    | 2019-04-01 | 3098.5 | 2019-08-20 06:25:07 |\n",
    "+------------+---------+------------+--------+---------------------+\n",
    "11 rows in set (0.00 sec) <--- Row has been increased by 1"
   ]
  },
  {
   "cell_type": "markdown",
   "metadata": {},
   "source": [
    "We see that the behavior is the same, regardless of whether we use overwrite = \"Y\" `ON DUPLICATE KEY UPDATE`, or overwrite = \"N\"\n",
    "\n",
    "This is because every entry into the db is unique if the index is set on ALL columns!\n",
    "\n",
    "Note: \n",
    "The insert function call has been simplified to remove the overwrite option. \n",
    "\n",
    "Previously, ON DUPLICATE KEY UPDATE was controlled by a boolean flag to be appended onto the INSERT INTO query. \n",
    "\n",
    "To control overwriting of existing values in the database, define your key indices correctly once the table has been created, i.e. set unique_index(date, product, delivery) if prices can be overwritten, and set unique_index on ALL columns if updated prices are to be inserted as a new row"
   ]
  }
 ],
 "metadata": {
  "kernelspec": {
   "display_name": "techstack",
   "language": "python",
   "name": "techstack"
  },
  "language_info": {
   "codemirror_mode": {
    "name": "ipython",
    "version": 3
   },
   "file_extension": ".py",
   "mimetype": "text/x-python",
   "name": "python",
   "nbconvert_exporter": "python",
   "pygments_lexer": "ipython3",
   "version": "3.6.9"
  }
 },
 "nbformat": 4,
 "nbformat_minor": 4
}
